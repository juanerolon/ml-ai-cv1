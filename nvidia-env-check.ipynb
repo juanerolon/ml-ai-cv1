{
 "cells": [
  {
   "cell_type": "code",
   "execution_count": 100,
   "metadata": {
    "collapsed": false,
    "deletable": true,
    "editable": true
   },
   "outputs": [],
   "source": [
    "#@Juan E. Rolon\n",
    "#https://github.com/juanerolon/\n",
    "\n",
    "\n",
    "import os\n"
   ]
  },
  {
   "cell_type": "code",
   "execution_count": 56,
   "metadata": {
    "collapsed": true
   },
   "outputs": [],
   "source": [
    "def nvsmiHead():\n",
    "    nvsmi_path = r'C:\\Program Files\\NVIDIA Corporation\\NVSMI'\n",
    "    os.chdir(nvsmi_path)\n",
    "    os.getcwd()\n",
    "    txt = !nvidia-smi\n",
    "\n",
    "    ch = \"X\"\n",
    "    i=0\n",
    "    while ch != \" \":\n",
    "        ch = txt[i][:1]\n",
    "        print(txt[i])\n",
    "        i+=1\n"
   ]
  },
  {
   "cell_type": "code",
   "execution_count": 101,
   "metadata": {
    "collapsed": false
   },
   "outputs": [
    {
     "name": "stdout",
     "output_type": "stream",
     "text": [
      "Thu Jun 13 17:44:04 2019       \n",
      "+-----------------------------------------------------------------------------+\n",
      "| NVIDIA-SMI 388.13                 Driver Version: 388.13                    |\n",
      "|-------------------------------+----------------------+----------------------+\n",
      "| GPU  Name            TCC/WDDM | Bus-Id        Disp.A | Volatile Uncorr. ECC |\n",
      "| Fan  Temp  Perf  Pwr:Usage/Cap|         Memory-Usage | GPU-Util  Compute M. |\n",
      "|===============================+======================+======================|\n",
      "|   0  GeForce GTX 1080   WDDM  | 00000000:01:00.0  On |                  N/A |\n",
      "|  0%   55C    P8    19W / 240W |   3779MiB /  8192MiB |      0%      Default |\n",
      "+-------------------------------+----------------------+----------------------+\n",
      "                                                                               \n"
     ]
    }
   ],
   "source": [
    "nvsmiHead()"
   ]
  },
  {
   "cell_type": "code",
   "execution_count": 95,
   "metadata": {
    "collapsed": true
   },
   "outputs": [],
   "source": [
    "def nvsmiLogSect(txt, init_str, end_str):\n",
    "    try:\n",
    "        i=0\n",
    "        flg = True\n",
    "\n",
    "        while flg:\n",
    "            flg2 = False\n",
    "            if init_str in txt[i]:\n",
    "                flg2 = True\n",
    "                while flg2:\n",
    "                    print(txt[i])\n",
    "                    if end_str in txt[i]:\n",
    "                        flg2 = False\n",
    "                        flg = False\n",
    "\n",
    "                    i+=1\n",
    "            i+=1\n",
    "    except:\n",
    "        print(\"\")\n",
    "    "
   ]
  },
  {
   "cell_type": "code",
   "execution_count": 103,
   "metadata": {
    "collapsed": false
   },
   "outputs": [
    {
     "data": {
      "text/plain": [
       "'C:\\\\Program Files\\\\NVIDIA Corporation\\\\NVSMI'"
      ]
     },
     "execution_count": 103,
     "metadata": {},
     "output_type": "execute_result"
    }
   ],
   "source": [
    "nvsmi_path = r'C:\\Program Files\\NVIDIA Corporation\\NVSMI'\n",
    "os.chdir(nvsmi_path)\n",
    "os.getcwd()"
   ]
  },
  {
   "cell_type": "code",
   "execution_count": 104,
   "metadata": {
    "collapsed": false
   },
   "outputs": [
    {
     "name": "stdout",
     "output_type": "stream",
     "text": [
      "+-----------------------------------------------------------------------------+\n",
      "| NVIDIA-SMI 388.13                 Driver Version: 388.13                    |\n",
      "|-------------------------------+----------------------+----------------------+\n",
      "| GPU  Name            TCC/WDDM | Bus-Id        Disp.A | Volatile Uncorr. ECC |\n",
      "| Fan  Temp  Perf  Pwr:Usage/Cap|         Memory-Usage | GPU-Util  Compute M. |\n",
      "|===============================+======================+======================|\n",
      "|   0  GeForce GTX 1080   WDDM  | 00000000:01:00.0  On |                  N/A |\n",
      "|  0%   55C    P8    19W / 240W |   3777MiB /  8192MiB |      0%      Default |\n"
     ]
    }
   ],
   "source": [
    "txt = !nvidia-smi\n",
    "nvsmiLogSect(txt,\"+--\", \"Default\")\n"
   ]
  },
  {
   "cell_type": "code",
   "execution_count": 105,
   "metadata": {
    "collapsed": false
   },
   "outputs": [
    {
     "name": "stdout",
     "output_type": "stream",
     "text": [
      "    Product Name                    : GeForce GTX 1080\n",
      "    Product Brand                   : GeForce\n",
      "    Display Mode                    : Enabled\n",
      "    FB Memory Usage\n",
      "        Total                       : 8192 MiB\n",
      "        Used                        : 3775 MiB\n",
      "        Free                        : 4417 MiB\n",
      "    BAR1 Memory Usage\n",
      "        Total                       : 256 MiB\n",
      "        Used                        : 229 MiB\n",
      "        Free                        : 27 MiB\n",
      "    Compute Mode                    : Default\n",
      "    Utilization\n",
      "        Gpu                         : 1 %\n",
      "        Memory                      : 19 %\n",
      "        Encoder                     : 0 %\n",
      "        Decoder                     : 0 %\n"
     ]
    }
   ],
   "source": [
    "\n",
    "txt = !nvidia-smi -q\n",
    "nvsmiLogSect(txt,\"Product Name\", \"Display Mode\")\n",
    "nvsmiLogSect(txt,\"FB Memory Usage\", \"Compute Mode\")\n",
    "nvsmiLogSect(txt,\"Utilization\", \"Decoder\")"
   ]
  },
  {
   "cell_type": "code",
   "execution_count": null,
   "metadata": {
    "collapsed": true
   },
   "outputs": [],
   "source": []
  }
 ],
 "metadata": {
  "anaconda-cloud": {},
  "kernelspec": {
   "display_name": "Python 3",
   "language": "python",
   "name": "python3"
  },
  "language_info": {
   "codemirror_mode": {
    "name": "ipython",
    "version": 3
   },
   "file_extension": ".py",
   "mimetype": "text/x-python",
   "name": "python",
   "nbconvert_exporter": "python",
   "pygments_lexer": "ipython3",
   "version": "3.5.3"
  }
 },
 "nbformat": 4,
 "nbformat_minor": 2
}
