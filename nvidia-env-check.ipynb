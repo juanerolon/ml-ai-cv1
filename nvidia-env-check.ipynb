{
 "cells": [
  {
   "cell_type": "code",
   "execution_count": 3,
   "metadata": {
    "collapsed": false,
    "deletable": true,
    "editable": true
   },
   "outputs": [
    {
     "name": "stdout",
     "output_type": "stream",
     "text": [
      "GPU memory incrementally allocated for current tensorflow session\n"
     ]
    },
    {
     "name": "stderr",
     "output_type": "stream",
     "text": [
      "'nvidia-smi' is not recognized as an internal or external command,\n",
      "operable program or batch file.\n"
     ]
    }
   ],
   "source": [
    "#@Juan E. Rolon\n",
    "#https://github.com/juanerolon/\n",
    "\n",
    "\n",
    "import os\n",
    "\n",
    "import tensorflow as tf\n",
    "from keras.backend.tensorflow_backend import set_session\n",
    "config = tf.ConfigProto()\n",
    "\n",
    "#Set to True to allow GPU dynamic memory incremental allocation\n",
    "#Note: memory is not deallocated automatically\n",
    "if True:\n",
    "    config.gpu_options.allow_growth = True\n",
    "    print(\"GPU memory incrementally allocated for current tensorflow session\")\n",
    "\n",
    "#Set to True if you decide to allocate a specific fraction of the total GPU\n",
    "#memory to the current tensorflow session\n",
    "if False:\n",
    "    mem_frac = 0.3\n",
    "    config.gpu_options.per_process_gpu_memory_fraction = mem_frac\n",
    "    print(\"GPU memory allocated for current tensorflow session = {}\".format(mem_frac))\n",
    "    \n",
    "set_session(tf.Session(config=config))\n",
    "\n"
   ]
  },
  {
   "cell_type": "code",
   "execution_count": 55,
   "metadata": {
    "collapsed": false
   },
   "outputs": [
    {
     "name": "stdout",
     "output_type": "stream",
     "text": [
      "Thu Jun 13 15:24:11 2019       \n",
      "+-----------------------------------------------------------------------------+\n",
      "| NVIDIA-SMI 388.13                 Driver Version: 388.13                    |\n",
      "|-------------------------------+----------------------+----------------------+\n",
      "| GPU  Name            TCC/WDDM | Bus-Id        Disp.A | Volatile Uncorr. ECC |\n",
      "| Fan  Temp  Perf  Pwr:Usage/Cap|         Memory-Usage | GPU-Util  Compute M. |\n",
      "|===============================+======================+======================|\n",
      "|   0  GeForce GTX 1080   WDDM  | 00000000:01:00.0  On |                  N/A |\n",
      "|  0%   54C    P8    19W / 240W |   3579MiB /  8192MiB |      0%      Default |\n",
      "+-------------------------------+----------------------+----------------------+\n",
      "                                                                               \n"
     ]
    }
   ],
   "source": [
    "nvsmi_path = r'C:\\Program Files\\NVIDIA Corporation\\NVSMI'\n",
    "os.chdir(nvsmi_path)\n",
    "os.getcwd()\n",
    "txt = !nvidia-smi\n",
    "    \n",
    "ch = \"X\"\n",
    "i=0\n",
    "while ch != \" \":\n",
    "    ch = txt[i][:1]\n",
    "    print(txt[i])\n",
    "    i+=1"
   ]
  },
  {
   "cell_type": "code",
   "execution_count": 57,
   "metadata": {
    "collapsed": false
   },
   "outputs": [
    {
     "name": "stdout",
     "output_type": "stream",
     "text": [
      "Thu Jun 13 15:29:08 2019       \n",
      "+-----------------------------------------------------------------------------+\n",
      "| NVIDIA-SMI 388.13                 Driver Version: 388.13                    |\n",
      "|-------------------------------+----------------------+----------------------+\n",
      "| GPU  Name            TCC/WDDM | Bus-Id        Disp.A | Volatile Uncorr. ECC |\n",
      "| Fan  Temp  Perf  Pwr:Usage/Cap|         Memory-Usage | GPU-Util  Compute M. |\n",
      "|===============================+======================+======================|\n",
      "|   0  GeForce GTX 1080   WDDM  | 00000000:01:00.0  On |                  N/A |\n",
      "|  0%   54C    P8    19W / 240W |   3580MiB /  8192MiB |      2%      Default |\n",
      "+-------------------------------+----------------------+----------------------+\n",
      "                                                                               \n"
     ]
    }
   ],
   "source": [
    "nvsmiHead()"
   ]
  },
  {
   "cell_type": "code",
   "execution_count": 56,
   "metadata": {
    "collapsed": true
   },
   "outputs": [],
   "source": [
    "def nvsmiHead():\n",
    "    nvsmi_path = r'C:\\Program Files\\NVIDIA Corporation\\NVSMI'\n",
    "    os.chdir(nvsmi_path)\n",
    "    os.getcwd()\n",
    "    txt = !nvidia-smi\n",
    "\n",
    "    ch = \"X\"\n",
    "    i=0\n",
    "    while ch != \" \":\n",
    "        ch = txt[i][:1]\n",
    "        print(txt[i])\n",
    "        i+=1\n"
   ]
  },
  {
   "cell_type": "code",
   "execution_count": null,
   "metadata": {
    "collapsed": true
   },
   "outputs": [],
   "source": [
    "tf.Session().close()"
   ]
  },
  {
   "cell_type": "code",
   "execution_count": 59,
   "metadata": {
    "collapsed": false
   },
   "outputs": [
    {
     "name": "stdout",
     "output_type": "stream",
     "text": [
      "\n",
      "==============NVSMI LOG==============\n",
      "\n",
      "Timestamp                           : Thu Jun 13 16:32:45 2019\n",
      "Driver Version                      : 388.13\n",
      "\n",
      "Attached GPUs                       : 1\n",
      "GPU 00000000:01:00.0\n",
      "    Product Name                    : GeForce GTX 1080\n"
     ]
    }
   ],
   "source": [
    "txt = !nvidia-smi -q\n",
    "ch = \"X\"\n",
    "i=0\n",
    "while ch != \" \":\n",
    "    ch = txt[i][:1]\n",
    "    print(txt[i])\n",
    "    i+=1"
   ]
  },
  {
   "cell_type": "code",
   "execution_count": 95,
   "metadata": {
    "collapsed": true
   },
   "outputs": [],
   "source": [
    "def nvsmiLogSect(txt, init_str, end_str):\n",
    "    try:\n",
    "        i=0\n",
    "        flg = True\n",
    "\n",
    "        while flg:\n",
    "            flg2 = False\n",
    "            if init_str in txt[i]:\n",
    "                flg2 = True\n",
    "                while flg2:\n",
    "                    print(txt[i])\n",
    "                    if end_str in txt[i]:\n",
    "                        flg2 = False\n",
    "                        flg = False\n",
    "\n",
    "                    i+=1\n",
    "            i+=1\n",
    "    except:\n",
    "        print(\"\")\n",
    "    "
   ]
  },
  {
   "cell_type": "code",
   "execution_count": 99,
   "metadata": {
    "collapsed": false
   },
   "outputs": [
    {
     "name": "stdout",
     "output_type": "stream",
     "text": [
      "+-----------------------------------------------------------------------------+\n",
      "| NVIDIA-SMI 388.13                 Driver Version: 388.13                    |\n",
      "|-------------------------------+----------------------+----------------------+\n",
      "| GPU  Name            TCC/WDDM | Bus-Id        Disp.A | Volatile Uncorr. ECC |\n",
      "| Fan  Temp  Perf  Pwr:Usage/Cap|         Memory-Usage | GPU-Util  Compute M. |\n",
      "|===============================+======================+======================|\n",
      "|   0  GeForce GTX 1080   WDDM  | 00000000:01:00.0  On |                  N/A |\n",
      "|  0%   55C    P8    18W / 240W |   3780MiB /  8192MiB |      3%      Default |\n",
      "\n",
      "    Product Name                    : GeForce GTX 1080\n",
      "    Product Brand                   : GeForce\n",
      "    Display Mode                    : Enabled\n",
      "    FB Memory Usage\n",
      "        Total                       : 8192 MiB\n",
      "        Used                        : 3791 MiB\n",
      "        Free                        : 4401 MiB\n",
      "    BAR1 Memory Usage\n",
      "        Total                       : 256 MiB\n",
      "        Used                        : 229 MiB\n",
      "        Free                        : 27 MiB\n",
      "    Compute Mode                    : Default\n",
      "    Utilization\n",
      "        Gpu                         : 11 %\n",
      "        Memory                      : 25 %\n",
      "        Encoder                     : 0 %\n",
      "        Decoder                     : 0 %\n"
     ]
    }
   ],
   "source": [
    "txt = !nvidia-smi\n",
    "nvsmiLogSect(txt,\"+--\", \"Default\")\n",
    "print(\"\")\n",
    "txt = !nvidia-smi -q\n",
    "nvsmiLogSect(txt,\"Product Name\", \"Display Mode\")\n",
    "nvsmiLogSect(txt,\"FB Memory Usage\", \"Compute Mode\")\n",
    "nvsmiLogSect(txt,\"Utilization\", \"Decoder\")"
   ]
  },
  {
   "cell_type": "code",
   "execution_count": 85,
   "metadata": {
    "collapsed": false,
    "scrolled": false
   },
   "outputs": [
    {
     "name": "stdout",
     "output_type": "stream",
     "text": [
      "    Product Name                    : GeForce GTX 1080\n",
      "    Product Brand                   : GeForce\n",
      "    Display Mode                    : Enabled\n",
      "    FB Memory Usage\n",
      "        Total                       : 8192 MiB\n",
      "        Used                        : 3687 MiB\n",
      "        Free                        : 4505 MiB\n",
      "    BAR1 Memory Usage\n",
      "        Total                       : 256 MiB\n",
      "        Used                        : 229 MiB\n",
      "        Free                        : 27 MiB\n",
      "    Compute Mode                    : Default\n",
      "    Utilization\n",
      "        Gpu                         : 4 %\n",
      "        Memory                      : 21 %\n",
      "        Encoder                     : 0 %\n",
      "        Decoder                     : 0 %\n"
     ]
    }
   ],
   "source": [
    "\n",
    "i=0\n",
    "\n",
    "flg = True\n",
    "\n",
    "while flg:\n",
    "    flg2 = False\n",
    "    if \"Product Name\" in txt[i]:\n",
    "        flg2 = True\n",
    "        while flg2:\n",
    "            print(txt[i])\n",
    "            if \"Display Mode\" in txt[i]:\n",
    "                flg2 = False\n",
    "                flg = False\n",
    "                  \n",
    "            i+=1\n",
    "    i+=1\n",
    "\n",
    "\n",
    "i=0    \n",
    "flg = True\n",
    "\n",
    "while flg:\n",
    "    flg2 = False\n",
    "    if \"FB Memory Usage\" in txt[i]:\n",
    "        flg2 = True\n",
    "        while flg2:\n",
    "            print(txt[i])\n",
    "            if \"Compute Mode\" in txt[i]:\n",
    "                flg2 = False\n",
    "                flg = False\n",
    "                  \n",
    "            i+=1\n",
    "    i+=1\n",
    "        \n",
    "    \n",
    "\n",
    "try:\n",
    "    i=0\n",
    "    flg = True\n",
    "\n",
    "    while flg:\n",
    "        flg2 = False\n",
    "        if \"Utilization\" in txt[i]:\n",
    "            flg2 = True\n",
    "            while flg2:\n",
    "                print(txt[i])\n",
    "                if \"Decoder\" in txt[i]:\n",
    "                    flg2 = False\n",
    "                    flg = False\n",
    "\n",
    "                i+=1\n",
    "        i+=1\n",
    "except:\n",
    "    print(\"\")\n",
    "    \n",
    "\n"
   ]
  },
  {
   "cell_type": "code",
   "execution_count": null,
   "metadata": {
    "collapsed": true
   },
   "outputs": [],
   "source": []
  }
 ],
 "metadata": {
  "anaconda-cloud": {},
  "kernelspec": {
   "display_name": "Python 3",
   "language": "python",
   "name": "python3"
  },
  "language_info": {
   "codemirror_mode": {
    "name": "ipython",
    "version": 3
   },
   "file_extension": ".py",
   "mimetype": "text/x-python",
   "name": "python",
   "nbconvert_exporter": "python",
   "pygments_lexer": "ipython3",
   "version": "3.5.3"
  }
 },
 "nbformat": 4,
 "nbformat_minor": 2
}
